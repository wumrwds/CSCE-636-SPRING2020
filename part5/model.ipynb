{
 "cells": [
  {
   "cell_type": "code",
   "execution_count": 43,
   "metadata": {},
   "outputs": [],
   "source": [
    "import cv2\n",
    "import os\n",
    "import numpy as np\n",
    "import math\n",
    "import json\n",
    "import matplotlib.pyplot as plt\n",
    "\n",
    "from sklearn.utils import shuffle\n",
    "\n",
    "from keras.applications.vgg16 import VGG16\n",
    "from keras.models import Model\n",
    "from keras.layers import Dense, Input, Conv2D, MaxPooling2D, Activation, Dropout\n",
    "from keras.layers.pooling import GlobalAveragePooling1D, GlobalAveragePooling2D\n",
    "from keras.layers.recurrent import LSTM\n",
    "from keras.layers.wrappers import TimeDistributed\n",
    "from keras.optimizers import Nadam, SGD\n",
    "from keras.utils import to_categorical, plot_model\n",
    "from keras.models import load_model, Sequential\n",
    "from keras.layers.core import Dense, Flatten\n",
    "from keras.callbacks import ModelCheckpoint"
   ]
  },
  {
   "cell_type": "markdown",
   "metadata": {},
   "source": [
    "# Data Preprocessing"
   ]
  },
  {
   "cell_type": "code",
   "execution_count": 2,
   "metadata": {},
   "outputs": [],
   "source": [
    "def video_to_frames(video, resize=(320, 240)):\n",
    "    \"\"\"\n",
    "    Convert video to frame arrays\n",
    "    \"\"\"\n",
    "    # extract frames from a video and return a frame array\n",
    "    vidcap = cv2.VideoCapture(video)\n",
    "    frames = []\n",
    "    while vidcap.isOpened():\n",
    "        success, image = vidcap.read()\n",
    "        \n",
    "        if success:\n",
    "            frames.append(image)\n",
    "        else:\n",
    "            break\n",
    "    \n",
    "    cv2.destroyAllWindows()\n",
    "    vidcap.release()\n",
    "    \n",
    "    # resize each frame\n",
    "    resized_frames = []\n",
    "    for frame in frames:\n",
    "        resized_frames.append(cv2.resize(frame, dsize=resize, interpolation=cv2.INTER_CUBIC))\n",
    "    \n",
    "    return np.array(resized_frames)"
   ]
  },
  {
   "cell_type": "code",
   "execution_count": 3,
   "metadata": {},
   "outputs": [],
   "source": [
    "def parse_videos_in_folder(folder_path, label):\n",
    "    \"\"\"\n",
    "    Parse all videos in a folfer and mark all video with the given tag\n",
    "    \"\"\"\n",
    "    train_data = []\n",
    "    train_label = []\n",
    "    \n",
    "    for file_path in os.listdir(folder_path):\n",
    "        if os.path.splitext(file_path)[1] in (\".avi\", \".mp4\"):\n",
    "            file_path = folder_path + file_path if folder_path[-1] == '/' else folder_path + '/' + file_path\n",
    "            print(file_path, label)\n",
    "\n",
    "            # parse videos into frame arrays\n",
    "            frames = video_to_frames(file_path)\n",
    "\n",
    "            train_data.append(frames)\n",
    "            train_label.append(label)\n",
    "    \n",
    "    return train_data, train_label"
   ]
  },
  {
   "cell_type": "code",
   "execution_count": 4,
   "metadata": {},
   "outputs": [],
   "source": [
    "def merge_dataset(data_1, label_1, data_2, label_2):\n",
    "    \"\"\"\n",
    "    Merge 2 datasets and label sets\n",
    "    \"\"\"\n",
    "    merged_data = data_1 + data_2\n",
    "    merged_label = label_1 + label_2\n",
    "\n",
    "    merged_data = np.array(merged_data)\n",
    "    merged_label = np.array(merged_label)\n",
    "\n",
    "    return merged_data, merged_label"
   ]
  },
  {
   "cell_type": "code",
   "execution_count": 5,
   "metadata": {},
   "outputs": [
    {
     "name": "stdout",
     "output_type": "stream",
     "text": [
      "dataset/train/other/squat_train_20.mp4 0\n",
      "dataset/train/other/walk_train_6.mp4 0\n",
      "dataset/train/other/crouch_train_7.mp4 0\n",
      "dataset/train/other/squat_train_18.mp4 0\n",
      "dataset/train/other/run_train_11.mp4 0\n",
      "dataset/train/other/crouch_train_3.mp4 0\n",
      "dataset/train/other/jump_train_5.mp4 0\n",
      "dataset/train/other/jump_train_11.mp4 0\n",
      "dataset/train/other/run_train_2.mp4 0\n",
      "dataset/train/other/squat_train_8.mp4 0\n",
      "dataset/train/other/crouch_train_11.mp4 0\n",
      "dataset/train/other/squat_train_19.mp4 0\n",
      "dataset/train/other/crouch_train_19.mp4 0\n",
      "dataset/train/other/bend_train_1.mp4 0\n",
      "dataset/train/other/walk_train_12.mp4 0\n",
      "dataset/train/other/walk_train_18.mp4 0\n",
      "dataset/train/other/jump_train_10.mp4 0\n",
      "dataset/train/other/run_train_17.mp4 0\n",
      "dataset/train/other/run_train_16.mp4 0\n",
      "dataset/train/other/crouch_train_14.mp4 0\n",
      "dataset/train/other/squat_train_13.mp4 0\n",
      "dataset/train/other/squat_train_1.mp4 0\n",
      "dataset/train/other/walk_train_13.mp4 0\n",
      "dataset/train/other/squat_train_6.mp4 0\n",
      "dataset/train/other/squat_train_7.mp4 0\n",
      "dataset/train/other/crouch_train_9.mp4 0\n",
      "dataset/train/other/walk_train_7.mp4 0\n",
      "dataset/train/other/run_train_19.mp4 0\n",
      "dataset/train/other/run_train_4.mp4 0\n",
      "dataset/train/other/crouch_train_2.mp4 0\n",
      "dataset/train/other/jump_train_4.mp4 0\n",
      "dataset/train/other/crouch_train_5.mp4 0\n",
      "dataset/train/other/crouch_train_10.mp4 0\n",
      "dataset/train/other/jump_train_14.mp4 0\n",
      "dataset/train/other/walk_train_3.mp4 0\n",
      "dataset/train/other/bend_train_10.mp4 0\n",
      "dataset/train/other/run_train_14.mp4 0\n",
      "dataset/train/other/run_train_1.mp4 0\n",
      "dataset/train/other/crouch_train_16.mp4 0\n",
      "dataset/train/other/walk_train_11.mp4 0\n",
      "dataset/train/other/run_train_9.mp4 0\n",
      "dataset/train/other/jump_train_13.mp4 0\n",
      "dataset/train/other/jump_train_8.mp4 0\n",
      "dataset/train/other/jump_train_16.mp4 0\n",
      "dataset/train/other/run_train_10.mp4 0\n",
      "dataset/train/other/run_train_12.mp4 0\n",
      "dataset/train/other/run_train_7.mp4 0\n",
      "dataset/train/other/squat_train_15.mp4 0\n",
      "dataset/train/other/jump_train_7.mp4 0\n",
      "dataset/train/other/squat_train_5.mp4 0\n",
      "dataset/train/other/bend_train_4.mp4 0\n",
      "dataset/train/other/walk_train_15.mp4 0\n",
      "dataset/train/other/crouch_train_1.mp4 0\n",
      "dataset/train/other/walk_train_1.mp4 0\n",
      "dataset/train/other/squat_train_12.mp4 0\n",
      "dataset/train/other/crouch_train_17.mp4 0\n",
      "dataset/train/other/run_train_13.mp4 0\n",
      "dataset/train/other/bend_train_12.mp4 0\n",
      "dataset/train/other/squat_train_17.mp4 0\n",
      "dataset/train/other/jump_train_6.mp4 0\n",
      "dataset/train/other/bend_train_3.mp4 0\n",
      "dataset/train/other/crouch_train_15.mp4 0\n",
      "dataset/train/other/walk_train_4.mp4 0\n",
      "dataset/train/other/walk_train_9.mp4 0\n",
      "dataset/train/other/squat_train_11.mp4 0\n",
      "dataset/train/other/walk_train_14.mp4 0\n",
      "dataset/train/other/crouch_train_6.mp4 0\n",
      "dataset/train/other/jump_train_2.mp4 0\n",
      "dataset/train/other/crouch_train_12.mp4 0\n",
      "dataset/train/other/jump_train_12.mp4 0\n",
      "dataset/train/other/squat_train_22.mp4 0\n",
      "dataset/train/other/walk_train_5.mp4 0\n",
      "dataset/train/other/squat_train_3.mp4 0\n",
      "dataset/train/other/run_train_21.mp4 0\n",
      "dataset/train/other/squat_train_2.mp4 0\n",
      "dataset/train/other/run_train_6.mp4 0\n",
      "dataset/train/other/squat_train_10.mp4 0\n",
      "dataset/train/other/walk_train_10.mp4 0\n",
      "dataset/train/other/bend_train_5.mp4 0\n",
      "dataset/train/other/jump_train_1.mp4 0\n",
      "dataset/train/other/run_train_18.mp4 0\n",
      "dataset/train/other/walk_train_17.mp4 0\n",
      "dataset/train/other/squat_train_16.mp4 0\n",
      "dataset/train/other/run_train_5.mp4 0\n",
      "dataset/train/slip/faint_train_9.mp4 1\n",
      "dataset/train/slip/faint_train_8.mp4 1\n",
      "dataset/train/slip/faint_train_11.mp4 1\n",
      "dataset/train/slip/slip_train_13.mp4 1\n",
      "dataset/train/slip/slip_train_22.mp4 1\n",
      "dataset/train/slip/slip_train_21.mp4 1\n",
      "dataset/train/slip/faint_train_3.mp4 1\n",
      "dataset/train/slip/faint_train_5.mp4 1\n",
      "dataset/train/slip/slip_train_26.mp4 1\n",
      "dataset/train/slip/faint_train_10.mp4 1\n",
      "dataset/train/slip/faint_train_17.mp4 1\n",
      "dataset/train/slip/faint_train_12.mp4 1\n",
      "dataset/train/slip/slip_train_29.mp4 1\n",
      "dataset/train/slip/faint_train_24.mp4 1\n",
      "dataset/train/slip/faint_train_6.mp4 1\n",
      "dataset/train/slip/faint_train_4.mp4 1\n",
      "dataset/train/slip/faint_train_20.mp4 1\n",
      "dataset/train/slip/slip_train_12.mp4 1\n",
      "dataset/train/slip/faint_train_23.mp4 1\n",
      "dataset/train/slip/slip_train_14.mp4 1\n",
      "dataset/train/slip/slip_train_19.mp4 1\n",
      "dataset/train/slip/slip_train_1.mp4 1\n",
      "dataset/train/slip/faint_train_21.mp4 1\n",
      "dataset/train/slip/slip_train_18.mp4 1\n",
      "dataset/train/slip/faint_train_25.mp4 1\n",
      "dataset/train/slip/slip_train_27.mp4 1\n",
      "dataset/train/slip/slip_train_28.mp4 1\n",
      "dataset/train/slip/faint_train_14.mp4 1\n",
      "dataset/train/slip/faint_train_15.mp4 1\n",
      "dataset/train/slip/faint_train_1.mp4 1\n",
      "dataset/train/slip/slip_train_31.mp4 1\n",
      "dataset/train/slip/slip_train_7.mp4 1\n",
      "dataset/train/slip/slip_train_9.mp4 1\n",
      "dataset/train/slip/faint_train_16.mp4 1\n",
      "dataset/train/slip/slip_train_25.mp4 1\n",
      "dataset/train/slip/slip_train_17.mp4 1\n",
      "dataset/train/slip/slip_train_10.mp4 1\n",
      "dataset/train/slip/slip_train_11.mp4 1\n",
      "dataset/train/slip/faint_train_19.mp4 1\n",
      "dataset/train/slip/slip_train_3.mp4 1\n",
      "dataset/train/slip/slip_train_6.mp4 1\n",
      "dataset/train/slip/slip_train_4.mp4 1\n",
      "dataset/train/slip/slip_train_15.mp4 1\n",
      "dataset/train/slip/slip_train_20.mp4 1\n",
      "dataset/train/slip/slip_train_24.mp4 1\n"
     ]
    }
   ],
   "source": [
    "# Parse train set, validation set and test set\n",
    "train_data_other, train_label_other = parse_videos_in_folder('dataset/train/other', 0)\n",
    "train_data_slip, train_label_slip = parse_videos_in_folder('dataset/train/slip', 1)\n",
    "train_data, train_label = merge_dataset(train_data_other, train_label_other, train_data_slip, train_label_slip)\n",
    "del train_data_other, train_label_other, train_data_slip, train_label_slip"
   ]
  },
  {
   "cell_type": "code",
   "execution_count": 6,
   "metadata": {},
   "outputs": [
    {
     "name": "stdout",
     "output_type": "stream",
     "text": [
      "dataset/valid/other/run_valid_3.mp4 0\n",
      "dataset/valid/other/walk_valid_2.mp4 0\n",
      "dataset/valid/other/bend_valid_2.mp4 0\n",
      "dataset/valid/other/walk_valid_8.mp4 0\n",
      "dataset/valid/other/crouch_valid_4.mp4 0\n",
      "dataset/valid/other/jump_valid_3.mp4 0\n",
      "dataset/valid/other/crouch_valid_8.mp4 0\n",
      "dataset/valid/other/squat_valid_9.mp4 0\n",
      "dataset/valid/other/run_valid_20.mp4 0\n",
      "dataset/valid/other/squat_valid_21.mp4 0\n",
      "dataset/valid/other/walk_valid_16.mp4 0\n",
      "dataset/valid/other/jump_valid_15.mp4 0\n",
      "dataset/valid/other/crouch_valid_13.mp4 0\n",
      "dataset/valid/other/squat_valid_14.mp4 0\n",
      "dataset/valid/other/jump_valid_9.mp4 0\n",
      "dataset/valid/other/crouch_valid_18.mp4 0\n",
      "dataset/valid/other/bend_valid_11.mp4 0\n",
      "dataset/valid/other/squat_valid_4.mp4 0\n",
      "dataset/valid/other/run_valid_15.mp4 0\n",
      "dataset/valid/other/run_valid_8.mp4 0\n",
      "dataset/valid/slip/slip_valid_2.mp4 1\n",
      "dataset/valid/slip/faint_valid_22.mp4 1\n",
      "dataset/valid/slip/slip_valid_30.mp4 1\n",
      "dataset/valid/slip/slip_valid_16.mp4 1\n",
      "dataset/valid/slip/faint_valid_2.mp4 1\n",
      "dataset/valid/slip/slip_valid_8.mp4 1\n",
      "dataset/valid/slip/slip_valid_5.mp4 1\n",
      "dataset/valid/slip/faint_valid_13.mp4 1\n",
      "dataset/valid/slip/faint_valid_7.mp4 1\n",
      "dataset/valid/slip/faint_valid_18.mp4 1\n",
      "dataset/valid/slip/faint_valid_26.mp4 1\n",
      "dataset/valid/slip/slip_valid_23.mp4 1\n"
     ]
    }
   ],
   "source": [
    "valid_data_other, valid_label_other = parse_videos_in_folder('dataset/valid/other', 0)\n",
    "valid_data_slip, valid_label_slip = parse_videos_in_folder('dataset/valid/slip', 1)\n",
    "valid_data, valid_label = merge_dataset(valid_data_other, valid_label_other, valid_data_slip, valid_label_slip)\n",
    "del valid_data_other, valid_label_other, valid_data_slip, valid_label_slip"
   ]
  },
  {
   "cell_type": "code",
   "execution_count": 7,
   "metadata": {},
   "outputs": [
    {
     "name": "stdout",
     "output_type": "stream",
     "text": [
      "dataset/test/other/run_test_4.mp4 0\n",
      "dataset/test/other/walk_test_4.mp4 0\n",
      "dataset/test/other/squat_test_6.mp4 0\n",
      "dataset/test/other/jump_test_3.mp4 0\n",
      "dataset/test/other/squat_test_1.mp4 0\n",
      "dataset/test/other/squat_test_3.mp4 0\n",
      "dataset/test/other/run_test_7.mp4 0\n",
      "dataset/test/other/walk_test_2.mp4 0\n",
      "dataset/test/other/crouch_test_2.mp4 0\n",
      "dataset/test/other/walk_test_3.mp4 0\n",
      "dataset/test/other/jump_test_1.mp4 0\n",
      "dataset/test/other/jump_test_2.mp4 0\n",
      "dataset/test/other/walk_test_1.mp4 0\n",
      "dataset/test/other/run_test_6.mp4 0\n",
      "dataset/test/other/run_test_5.mp4 0\n",
      "dataset/test/other/squat_test_5.mp4 0\n",
      "dataset/test/other/crouch_test_4.mp4 0\n",
      "dataset/test/other/run_test_1.mp4 0\n",
      "dataset/test/other/squat_test_4.mp4 0\n",
      "dataset/test/other/jump_test_6.mp4 0\n",
      "dataset/test/other/crouch_test_5.mp4 0\n",
      "dataset/test/other/jump_test_5.mp4 0\n",
      "dataset/test/other/squat_test_2.mp4 0\n",
      "dataset/test/other/run_test_2.mp4 0\n",
      "dataset/test/other/run_test_3.mp4 0\n",
      "dataset/test/other/bend_test_1.mp4 0\n",
      "dataset/test/other/crouch_test_1.mp4 0\n",
      "dataset/test/other/jump_test_8.mp4 0\n",
      "dataset/test/other/jump_test_4.mp4 0\n",
      "dataset/test/other/jump_test_7.mp4 0\n",
      "dataset/test/other/crouch_test_3.mp4 0\n",
      "dataset/test/slip/faint_test_7.mp4 1\n",
      "dataset/test/slip/faint_test_6.mp4 1\n",
      "dataset/test/slip/faint_test_14.mp4 1\n",
      "dataset/test/slip/slip_test_5.mp4 1\n",
      "dataset/test/slip/slip_test_3.mp4 1\n",
      "dataset/test/slip/slip_test_7.mp4 1\n",
      "dataset/test/slip/slip_test_2.mp4 1\n",
      "dataset/test/slip/slip_test_8.mp4 1\n",
      "dataset/test/slip/faint_test_8.mp4 1\n",
      "dataset/test/slip/faint_test_11.mp4 1\n",
      "dataset/test/slip/faint_test_5.mp4 1\n",
      "dataset/test/slip/faint_test_1.mp4 1\n",
      "dataset/test/slip/faint_test_13.mp4 1\n",
      "dataset/test/slip/faint_test_16.mp4 1\n",
      "dataset/test/slip/faint_test_3.mp4 1\n",
      "dataset/test/slip/faint_test_10.mp4 1\n",
      "dataset/test/slip/faint_test_4.mp4 1\n",
      "dataset/test/slip/slip_test_6.mp4 1\n",
      "dataset/test/slip/faint_test_15.mp4 1\n",
      "dataset/test/slip/faint_test_2.mp4 1\n",
      "dataset/test/slip/slip_test_4.mp4 1\n",
      "dataset/test/slip/faint_test_9.mp4 1\n",
      "dataset/test/slip/faint_test_12.mp4 1\n",
      "dataset/test/slip/slip_test_1.mp4 1\n"
     ]
    }
   ],
   "source": [
    "test_data_other, test_label_other = parse_videos_in_folder('dataset/test/other', 0)\n",
    "test_data_slip, test_label_slip = parse_videos_in_folder('dataset/test/slip', 1)\n",
    "test_data, test_label = merge_dataset(test_data_other, test_label_other, test_data_slip, test_label_slip)\n",
    "del test_data_other, test_label_other, test_data_slip, test_label_slip"
   ]
  },
  {
   "cell_type": "code",
   "execution_count": 8,
   "metadata": {},
   "outputs": [
    {
     "name": "stdout",
     "output_type": "stream",
     "text": [
      "The median of the frame length is 137.\n"
     ]
    }
   ],
   "source": [
    "# get the median length of video frame array of the training set\n",
    "frame_lens = []\n",
    "for frames in train_data:\n",
    "    frame_lens.append(len(frames))\n",
    "\n",
    "median_len = int(np.median(np.array(frame_lens)))\n",
    "    \n",
    "print(\"The median of the frame length is %d.\" % median_len)"
   ]
  },
  {
   "cell_type": "code",
   "execution_count": 9,
   "metadata": {},
   "outputs": [],
   "source": [
    "def normalize_frames(frames, length):\n",
    "    \"\"\"\n",
    "    Truncate the excess frames and pad the missing frames using the head & tail frame\n",
    "    \"\"\"\n",
    "    mid = len(frames) // 2\n",
    "    half_len = length // 2\n",
    "    if len(frames) >= length:\n",
    "        norm_frames = frames[mid - half_len : mid + half_len]\n",
    "    else:\n",
    "        left = half_len - mid\n",
    "        norm_frames = []\n",
    "        for i in range(length):\n",
    "            if i < left:\n",
    "                norm_frames.append(frames[0])\n",
    "            elif i - left < len(frames):\n",
    "                norm_frames.append(frames[i-left])\n",
    "            else:\n",
    "                norm_frames.append(frames[-1])\n",
    "\n",
    "    return np.array(norm_frames)\n",
    "    \n",
    "    \n",
    "def normalize_frame_array(frame_array, length):\n",
    "    \"\"\"\n",
    "    Normalize all frame arrays and convert it to a numpy array\n",
    "    \"\"\"\n",
    "    norm_frame_list = []\n",
    "    for frames in frame_array:\n",
    "        norm_frame_list.append(normalize_frames(frames, length))\n",
    "\n",
    "    return np.array(norm_frame_list)"
   ]
  },
  {
   "cell_type": "code",
   "execution_count": 10,
   "metadata": {},
   "outputs": [],
   "source": [
    "# normalize train set, validation set and test set\n",
    "train_data = normalize_frame_array(train_data, median_len // 2 * 2)\n",
    "test_data = normalize_frame_array(test_data, median_len // 2 * 2)\n",
    "valid_data = normalize_frame_array(valid_data, median_len // 2 * 2)"
   ]
  },
  {
   "cell_type": "code",
   "execution_count": 11,
   "metadata": {},
   "outputs": [
    {
     "name": "stdout",
     "output_type": "stream",
     "text": [
      "(129, 136, 240, 320, 3) (129,)\n",
      "(32, 136, 240, 320, 3) (32,)\n",
      "(55, 136, 240, 320, 3) (55,)\n"
     ]
    }
   ],
   "source": [
    "print(train_data.shape, train_label.shape)\n",
    "print(valid_data.shape, valid_label.shape)\n",
    "print(test_data.shape, test_label.shape)"
   ]
  },
  {
   "cell_type": "code",
   "execution_count": 12,
   "metadata": {},
   "outputs": [],
   "source": [
    "# save train set, validation set and test set as a .npy file\n",
    "np.save('train_data', train_data)\n",
    "np.save('train_label', train_label)\n",
    "del train_data, train_label"
   ]
  },
  {
   "cell_type": "code",
   "execution_count": 13,
   "metadata": {},
   "outputs": [],
   "source": [
    "np.save('valid_data', valid_data)\n",
    "np.save('valid_label', valid_label)\n",
    "del valid_data, valid_label"
   ]
  },
  {
   "cell_type": "code",
   "execution_count": 14,
   "metadata": {},
   "outputs": [],
   "source": [
    "np.save('test_data', test_data)\n",
    "np.save('test_label', test_label)\n",
    "del test_data, test_label"
   ]
  },
  {
   "cell_type": "markdown",
   "metadata": {},
   "source": [
    "# Train Model"
   ]
  },
  {
   "cell_type": "markdown",
   "metadata": {},
   "source": [
    "### VGG16+LSTM without Dropout"
   ]
  },
  {
   "cell_type": "code",
   "execution_count": 2,
   "metadata": {},
   "outputs": [],
   "source": [
    "# load train set, validation set and test set from .npy files\n",
    "train_data = np.load('train_data.npy')\n",
    "train_label = np.load('train_label.npy')"
   ]
  },
  {
   "cell_type": "code",
   "execution_count": 3,
   "metadata": {},
   "outputs": [],
   "source": [
    "valid_data = np.load('valid_data.npy')\n",
    "valid_label = np.load('valid_label.npy')"
   ]
  },
  {
   "cell_type": "code",
   "execution_count": 4,
   "metadata": {},
   "outputs": [],
   "source": [
    "def sample_frames(dataset, interval=5):\n",
    "    \"\"\"\n",
    "    Sample the video frame arrays by a given interval so that we can shrink the data scale \n",
    "    \"\"\"\n",
    "    dataset_tmp = []\n",
    "    for video in dataset:\n",
    "        dataset_tmp.append(video[::interval])\n",
    "\n",
    "    return np.array(dataset_tmp)"
   ]
  },
  {
   "cell_type": "code",
   "execution_count": 5,
   "metadata": {},
   "outputs": [],
   "source": [
    "# sample datasets and convert lables to float type\n",
    "train_data = sample_frames(train_data)\n",
    "train_label = train_label.astype('float32')"
   ]
  },
  {
   "cell_type": "code",
   "execution_count": 6,
   "metadata": {},
   "outputs": [],
   "source": [
    "valid_data = sample_frames(valid_data)\n",
    "valid_label = valid_label.astype('float32')"
   ]
  },
  {
   "cell_type": "code",
   "execution_count": 7,
   "metadata": {},
   "outputs": [],
   "source": [
    "# shuffle train set\n",
    "train_data, train_label = shuffle(train_data, train_label)"
   ]
  },
  {
   "cell_type": "code",
   "execution_count": 8,
   "metadata": {},
   "outputs": [],
   "source": [
    "# define the input shape of the model using the train set shape\n",
    "frames, rows, columns, channels = train_data.shape[1], train_data.shape[2], train_data.shape[3], train_data.shape[4]"
   ]
  },
  {
   "cell_type": "code",
   "execution_count": 9,
   "metadata": {},
   "outputs": [],
   "source": [
    "# create VGG16+LSTM model\n",
    "model = Sequential()\n",
    "model.add(TimeDistributed(VGG16(input_shape=(rows, columns, channels), weights=\"imagenet\", include_top=False)))\n",
    "model.add(TimeDistributed(GlobalAveragePooling2D()))\n",
    "model.add(LSTM(256, return_sequences=True))\n",
    "model.add(TimeDistributed(Dense(1024, activation='relu')))\n",
    "model.add(GlobalAveragePooling1D())\n",
    "model.add(Dense(1, activation='sigmoid'))"
   ]
  },
  {
   "cell_type": "code",
   "execution_count": 10,
   "metadata": {},
   "outputs": [],
   "source": [
    "# set SGD optimizer and compile the model\n",
    "optimizer = SGD(lr=0.00005, decay = 1e-6, momentum=0.9, nesterov=True)\n",
    "model.compile(loss=\"binary_crossentropy\",\n",
    "              optimizer=optimizer,\n",
    "              metrics=[\"accuracy\"])"
   ]
  },
  {
   "cell_type": "code",
   "execution_count": 11,
   "metadata": {},
   "outputs": [],
   "source": [
    "# set checkpoint for saving models automatically in every epoch\n",
    "checkpoint = ModelCheckpoint('vgg16_lstm_model_{epoch:d}.h5', period=1)"
   ]
  },
  {
   "cell_type": "code",
   "execution_count": 12,
   "metadata": {},
   "outputs": [
    {
     "name": "stdout",
     "output_type": "stream",
     "text": [
      "Train on 129 samples, validate on 32 samples\n",
      "Epoch 1/30\n",
      "129/129 [==============================] - 121s 937ms/step - loss: 0.6383 - accuracy: 0.6434 - val_loss: 0.5990 - val_accuracy: 0.6250\n",
      "Epoch 2/30\n",
      "129/129 [==============================] - 95s 733ms/step - loss: 0.5674 - accuracy: 0.6822 - val_loss: 0.5428 - val_accuracy: 0.6250\n",
      "Epoch 3/30\n",
      "129/129 [==============================] - 95s 733ms/step - loss: 0.5179 - accuracy: 0.7519 - val_loss: 0.4915 - val_accuracy: 0.7812\n",
      "Epoch 4/30\n",
      "129/129 [==============================] - 95s 733ms/step - loss: 0.4520 - accuracy: 0.7984 - val_loss: 0.4405 - val_accuracy: 0.9375\n",
      "Epoch 5/30\n",
      "129/129 [==============================] - 95s 733ms/step - loss: 0.3935 - accuracy: 0.9302 - val_loss: 0.3988 - val_accuracy: 0.8750\n",
      "Epoch 6/30\n",
      "129/129 [==============================] - 94s 732ms/step - loss: 0.3515 - accuracy: 0.9535 - val_loss: 0.3569 - val_accuracy: 0.9375\n",
      "Epoch 7/30\n",
      "129/129 [==============================] - 94s 731ms/step - loss: 0.3141 - accuracy: 0.9535 - val_loss: 0.3218 - val_accuracy: 0.9375\n",
      "Epoch 8/30\n",
      "129/129 [==============================] - 94s 732ms/step - loss: 0.2732 - accuracy: 0.9767 - val_loss: 0.2920 - val_accuracy: 0.9375\n",
      "Epoch 9/30\n",
      "129/129 [==============================] - 94s 732ms/step - loss: 0.2426 - accuracy: 0.9922 - val_loss: 0.2664 - val_accuracy: 0.9688\n",
      "Epoch 10/30\n",
      "129/129 [==============================] - 94s 732ms/step - loss: 0.2161 - accuracy: 0.9922 - val_loss: 0.2448 - val_accuracy: 0.9375\n",
      "Epoch 11/30\n",
      "129/129 [==============================] - 94s 730ms/step - loss: 0.1992 - accuracy: 0.9922 - val_loss: 0.2347 - val_accuracy: 0.9062\n",
      "Epoch 12/30\n",
      "129/129 [==============================] - 94s 731ms/step - loss: 0.1753 - accuracy: 0.9922 - val_loss: 0.2077 - val_accuracy: 1.0000\n",
      "Epoch 13/30\n",
      "129/129 [==============================] - 94s 732ms/step - loss: 0.1665 - accuracy: 0.9922 - val_loss: 0.1981 - val_accuracy: 0.9375\n",
      "Epoch 14/30\n",
      "129/129 [==============================] - 94s 730ms/step - loss: 0.1470 - accuracy: 0.9922 - val_loss: 0.1713 - val_accuracy: 1.0000\n",
      "Epoch 15/30\n",
      "129/129 [==============================] - 94s 731ms/step - loss: 0.1261 - accuracy: 0.9922 - val_loss: 0.1715 - val_accuracy: 1.0000\n",
      "Epoch 16/30\n",
      "129/129 [==============================] - 94s 731ms/step - loss: 0.1191 - accuracy: 1.0000 - val_loss: 0.1537 - val_accuracy: 1.0000\n",
      "Epoch 17/30\n",
      "129/129 [==============================] - 95s 733ms/step - loss: 0.1151 - accuracy: 0.9845 - val_loss: 0.1479 - val_accuracy: 0.9688\n",
      "Epoch 18/30\n",
      "129/129 [==============================] - 94s 731ms/step - loss: 0.1036 - accuracy: 0.9922 - val_loss: 0.1249 - val_accuracy: 1.0000\n",
      "Epoch 19/30\n",
      "129/129 [==============================] - 94s 732ms/step - loss: 0.0898 - accuracy: 1.0000 - val_loss: 0.1434 - val_accuracy: 1.0000\n",
      "Epoch 20/30\n",
      "129/129 [==============================] - 94s 731ms/step - loss: 0.0839 - accuracy: 1.0000 - val_loss: 0.1218 - val_accuracy: 1.0000\n",
      "Epoch 21/30\n",
      "129/129 [==============================] - 94s 732ms/step - loss: 0.0745 - accuracy: 1.0000 - val_loss: 0.1235 - val_accuracy: 0.9688\n",
      "Epoch 22/30\n",
      "129/129 [==============================] - 95s 734ms/step - loss: 0.0735 - accuracy: 0.9922 - val_loss: 0.1517 - val_accuracy: 1.0000\n",
      "Epoch 23/30\n",
      "129/129 [==============================] - 95s 733ms/step - loss: 0.0686 - accuracy: 1.0000 - val_loss: 0.0963 - val_accuracy: 1.0000\n",
      "Epoch 24/30\n",
      "129/129 [==============================] - 95s 733ms/step - loss: 0.0590 - accuracy: 1.0000 - val_loss: 0.0939 - val_accuracy: 1.0000\n",
      "Epoch 25/30\n",
      "129/129 [==============================] - 94s 733ms/step - loss: 0.0608 - accuracy: 1.0000 - val_loss: 0.1051 - val_accuracy: 0.9688\n",
      "Epoch 26/30\n",
      "129/129 [==============================] - 95s 734ms/step - loss: 0.0608 - accuracy: 1.0000 - val_loss: 0.0813 - val_accuracy: 1.0000\n",
      "Epoch 27/30\n",
      "129/129 [==============================] - 95s 733ms/step - loss: 0.0512 - accuracy: 1.0000 - val_loss: 0.0894 - val_accuracy: 1.0000\n",
      "Epoch 28/30\n",
      "129/129 [==============================] - 94s 731ms/step - loss: 0.0465 - accuracy: 1.0000 - val_loss: 0.0839 - val_accuracy: 1.0000\n",
      "Epoch 29/30\n",
      "129/129 [==============================] - 94s 731ms/step - loss: 0.0463 - accuracy: 1.0000 - val_loss: 0.0763 - val_accuracy: 1.0000\n",
      "Epoch 30/30\n",
      "129/129 [==============================] - 94s 731ms/step - loss: 0.0435 - accuracy: 1.0000 - val_loss: 0.0833 - val_accuracy: 0.9688\n"
     ]
    }
   ],
   "source": [
    "# set validation set and train the model\n",
    "history = model.fit(train_data, train_label, epochs=30, batch_size=3, \n",
    "                    validation_data=(valid_data, valid_label), callbacks=[checkpoint])"
   ]
  },
  {
   "cell_type": "markdown",
   "metadata": {},
   "source": [
    "### Plotting the Training and Validation Loss"
   ]
  },
  {
   "cell_type": "code",
   "execution_count": 13,
   "metadata": {},
   "outputs": [],
   "source": [
    "history_dict = history.history\n",
    "loss_values = history_dict['loss'] \n",
    "val_loss_values = history_dict['val_loss']"
   ]
  },
  {
   "cell_type": "code",
   "execution_count": 14,
   "metadata": {},
   "outputs": [],
   "source": [
    "epochs = range(1, len(loss_values) + 1)"
   ]
  },
  {
   "cell_type": "code",
   "execution_count": 15,
   "metadata": {},
   "outputs": [
    {
     "data": {
      "text/plain": [
       "<matplotlib.legend.Legend at 0x7fbadbfdf310>"
      ]
     },
     "execution_count": 15,
     "metadata": {},
     "output_type": "execute_result"
    },
    {
     "data": {
      "image/png": "[encoded data removed]",
      "text/plain": [
       "<Figure size 432x288 with 1 Axes>"
      ]
     },
     "metadata": {
      "needs_background": "light"
     },
     "output_type": "display_data"
    }
   ],
   "source": [
    "plt.plot(epochs, loss_values, 'bo', label='Training loss')\n",
    "plt.plot(epochs, val_loss_values, 'b', label='Validation loss')\n",
    "plt.title('Training and validation loss')\n",
    "plt.xlabel('Epochs')\n",
    "plt.ylabel('Loss')\n",
    "plt.legend()"
   ]
  },
  {
   "cell_type": "markdown",
   "metadata": {},
   "source": [
    "### Plotting the Training and Validation Accuracy"
   ]
  },
  {
   "cell_type": "code",
   "execution_count": 16,
   "metadata": {},
   "outputs": [
    {
     "data": {
      "text/plain": [
       "<Figure size 432x288 with 0 Axes>"
      ]
     },
     "metadata": {},
     "output_type": "display_data"
    }
   ],
   "source": [
    "plt.clf()\n",
    "acc_values = history_dict['accuracy'] \n",
    "val_acc_values = history_dict['val_accuracy']"
   ]
  },
  {
   "cell_type": "code",
   "execution_count": 17,
   "metadata": {},
   "outputs": [
    {
     "data": {
      "image/png": "[encoded data removed]",
      "text/plain": [
       "<Figure size 432x288 with 1 Axes>"
      ]
     },
     "metadata": {
      "needs_background": "light"
     },
     "output_type": "display_data"
    }
   ],
   "source": [
    "plt.plot(epochs, acc_values, 'bo', label='Training acc')\n",
    "plt.plot(epochs, val_acc_values, 'b', label='Validation acc')\n",
    "plt.title('Training and validation accuracy')\n",
    "plt.xlabel('Epochs')\n",
    "plt.ylabel('Loss')\n",
    "plt.legend()\n",
    "plt.show()"
   ]
  },
  {
   "cell_type": "markdown",
   "metadata": {},
   "source": [
    "### VGG16+LSTM with Dropout"
   ]
  },
  {
   "cell_type": "code",
   "execution_count": 18,
   "metadata": {},
   "outputs": [],
   "source": [
    "# create VGG16+LSTM model\n",
    "model = Sequential()\n",
    "model.add(TimeDistributed(VGG16(input_shape=(rows, columns, channels), weights=\"imagenet\", include_top=False)))\n",
    "model.add(Dropout(0.1))\n",
    "model.add(TimeDistributed(GlobalAveragePooling2D()))\n",
    "model.add(LSTM(256, return_sequences=True))\n",
    "model.add(TimeDistributed(Dense(1024, activation='relu')))\n",
    "# model.add(Dropout(0.1))\n",
    "model.add(GlobalAveragePooling1D())\n",
    "model.add(Dense(1, activation='sigmoid'))"
   ]
  },
  {
   "cell_type": "code",
   "execution_count": 19,
   "metadata": {},
   "outputs": [],
   "source": [
    "# set SGD optimizer and compile the model\n",
    "optimizer = SGD(lr=0.00005, decay = 1e-6, momentum=0.9, nesterov=True)\n",
    "model.compile(loss=\"binary_crossentropy\",\n",
    "              optimizer=optimizer,\n",
    "              metrics=[\"accuracy\"])"
   ]
  },
  {
   "cell_type": "code",
   "execution_count": 20,
   "metadata": {},
   "outputs": [],
   "source": [
    "# set checkpoint for saving models automatically in every epoch\n",
    "checkpoint = ModelCheckpoint('vgg16_lstm_model_dropout_{epoch:d}.h5', period=1)"
   ]
  },
  {
   "cell_type": "code",
   "execution_count": 21,
   "metadata": {},
   "outputs": [
    {
     "name": "stdout",
     "output_type": "stream",
     "text": [
      "Train on 129 samples, validate on 32 samples\n",
      "Epoch 1/30\n",
      "129/129 [==============================] - 95s 734ms/step - loss: 0.6612 - accuracy: 0.5814 - val_loss: 0.6075 - val_accuracy: 0.6250\n",
      "Epoch 2/30\n",
      "129/129 [==============================] - 94s 726ms/step - loss: 0.5930 - accuracy: 0.6512 - val_loss: 0.5662 - val_accuracy: 0.6562\n",
      "Epoch 3/30\n",
      "129/129 [==============================] - 94s 727ms/step - loss: 0.5512 - accuracy: 0.7054 - val_loss: 0.5334 - val_accuracy: 0.6562\n",
      "Epoch 4/30\n",
      "129/129 [==============================] - 94s 727ms/step - loss: 0.5081 - accuracy: 0.7442 - val_loss: 0.5003 - val_accuracy: 0.6562\n",
      "Epoch 5/30\n",
      "129/129 [==============================] - 94s 726ms/step - loss: 0.4625 - accuracy: 0.7984 - val_loss: 0.4639 - val_accuracy: 0.7812\n",
      "Epoch 6/30\n",
      "129/129 [==============================] - 94s 726ms/step - loss: 0.4251 - accuracy: 0.8837 - val_loss: 0.4363 - val_accuracy: 0.8125\n",
      "Epoch 7/30\n",
      "129/129 [==============================] - 94s 725ms/step - loss: 0.3762 - accuracy: 0.9302 - val_loss: 0.4016 - val_accuracy: 0.8438\n",
      "Epoch 8/30\n",
      "129/129 [==============================] - 94s 726ms/step - loss: 0.3509 - accuracy: 0.9535 - val_loss: 0.3437 - val_accuracy: 0.9375\n",
      "Epoch 9/30\n",
      "129/129 [==============================] - 94s 726ms/step - loss: 0.3078 - accuracy: 0.9380 - val_loss: 0.3146 - val_accuracy: 0.9375\n",
      "Epoch 10/30\n",
      "129/129 [==============================] - 94s 728ms/step - loss: 0.2712 - accuracy: 0.9845 - val_loss: 0.3011 - val_accuracy: 0.9688\n",
      "Epoch 11/30\n",
      "129/129 [==============================] - 94s 728ms/step - loss: 0.2456 - accuracy: 0.9922 - val_loss: 0.2595 - val_accuracy: 0.9688\n",
      "Epoch 12/30\n",
      "129/129 [==============================] - 94s 727ms/step - loss: 0.2140 - accuracy: 0.9922 - val_loss: 0.2321 - val_accuracy: 0.9688\n",
      "Epoch 13/30\n",
      "129/129 [==============================] - 94s 727ms/step - loss: 0.1939 - accuracy: 0.9922 - val_loss: 0.2154 - val_accuracy: 1.0000\n",
      "Epoch 14/30\n",
      "129/129 [==============================] - 94s 726ms/step - loss: 0.1855 - accuracy: 0.9767 - val_loss: 0.2003 - val_accuracy: 1.0000\n",
      "Epoch 15/30\n",
      "129/129 [==============================] - 94s 727ms/step - loss: 0.1581 - accuracy: 0.9922 - val_loss: 0.1765 - val_accuracy: 1.0000\n",
      "Epoch 16/30\n",
      "129/129 [==============================] - 94s 730ms/step - loss: 0.1435 - accuracy: 0.9922 - val_loss: 0.1690 - val_accuracy: 0.9688\n",
      "Epoch 17/30\n",
      "129/129 [==============================] - 94s 727ms/step - loss: 0.1332 - accuracy: 0.9922 - val_loss: 0.1649 - val_accuracy: 0.9688\n",
      "Epoch 18/30\n",
      "129/129 [==============================] - 94s 729ms/step - loss: 0.1258 - accuracy: 0.9922 - val_loss: 0.1526 - val_accuracy: 1.0000\n",
      "Epoch 19/30\n",
      "129/129 [==============================] - 94s 728ms/step - loss: 0.1036 - accuracy: 1.0000 - val_loss: 0.1400 - val_accuracy: 0.9688\n",
      "Epoch 20/30\n",
      "129/129 [==============================] - 94s 728ms/step - loss: 0.0955 - accuracy: 1.0000 - val_loss: 0.1387 - val_accuracy: 0.9688\n",
      "Epoch 21/30\n",
      "129/129 [==============================] - 94s 725ms/step - loss: 0.0937 - accuracy: 0.9922 - val_loss: 0.1218 - val_accuracy: 1.0000\n",
      "Epoch 22/30\n",
      "129/129 [==============================] - 93s 725ms/step - loss: 0.0823 - accuracy: 1.0000 - val_loss: 0.1055 - val_accuracy: 1.0000\n",
      "Epoch 23/30\n",
      "129/129 [==============================] - 94s 727ms/step - loss: 0.0728 - accuracy: 1.0000 - val_loss: 0.0985 - val_accuracy: 1.0000\n",
      "Epoch 24/30\n",
      "129/129 [==============================] - 94s 727ms/step - loss: 0.0683 - accuracy: 1.0000 - val_loss: 0.0942 - val_accuracy: 1.0000\n",
      "Epoch 25/30\n",
      "129/129 [==============================] - 94s 726ms/step - loss: 0.0634 - accuracy: 1.0000 - val_loss: 0.0977 - val_accuracy: 1.0000\n",
      "Epoch 26/30\n",
      "129/129 [==============================] - 94s 727ms/step - loss: 0.0630 - accuracy: 1.0000 - val_loss: 0.0864 - val_accuracy: 1.0000\n",
      "Epoch 27/30\n",
      "129/129 [==============================] - 94s 727ms/step - loss: 0.0540 - accuracy: 1.0000 - val_loss: 0.0798 - val_accuracy: 1.0000\n",
      "Epoch 28/30\n",
      "129/129 [==============================] - 94s 727ms/step - loss: 0.0525 - accuracy: 1.0000 - val_loss: 0.0796 - val_accuracy: 1.0000\n",
      "Epoch 29/30\n",
      "129/129 [==============================] - 94s 726ms/step - loss: 0.0478 - accuracy: 1.0000 - val_loss: 0.0729 - val_accuracy: 1.0000\n",
      "Epoch 30/30\n",
      "129/129 [==============================] - 94s 726ms/step - loss: 0.0439 - accuracy: 1.0000 - val_loss: 0.0703 - val_accuracy: 1.0000\n"
     ]
    }
   ],
   "source": [
    "# set validation set and train the model\n",
    "history_dropout = model.fit(train_data, train_label, epochs=30, batch_size=3, \n",
    "                    validation_data=(valid_data, valid_label), callbacks=[checkpoint])"
   ]
  },
  {
   "cell_type": "markdown",
   "metadata": {},
   "source": [
    "### Plotting the Training and Validation Loss"
   ]
  },
  {
   "cell_type": "code",
   "execution_count": 22,
   "metadata": {},
   "outputs": [],
   "source": [
    "history_dict = history_dropout.history\n",
    "loss_values = history_dict['loss'] \n",
    "val_loss_values = history_dict['val_loss']"
   ]
  },
  {
   "cell_type": "code",
   "execution_count": 23,
   "metadata": {},
   "outputs": [],
   "source": [
    "epochs = range(1, len(loss_values) + 1)"
   ]
  },
  {
   "cell_type": "code",
   "execution_count": 24,
   "metadata": {},
   "outputs": [
    {
     "data": {
      "text/plain": [
       "<matplotlib.legend.Legend at 0x7fbadb865510>"
      ]
     },
     "execution_count": 24,
     "metadata": {},
     "output_type": "execute_result"
    },
    {
     "data": {
      "image/png": "[encoded data removed]",
      "text/plain": [
       "<Figure size 432x288 with 1 Axes>"
      ]
     },
     "metadata": {
      "needs_background": "light"
     },
     "output_type": "display_data"
    }
   ],
   "source": [
    "plt.plot(epochs, loss_values, 'bo', label='Training loss')\n",
    "plt.plot(epochs, val_loss_values, 'b', label='Validation loss')\n",
    "plt.title('Training and validation loss')\n",
    "plt.xlabel('Epochs')\n",
    "plt.ylabel('Loss')\n",
    "plt.legend()"
   ]
  },
  {
   "cell_type": "markdown",
   "metadata": {},
   "source": [
    "### Plotting the Training and Validation Accuracy"
   ]
  },
  {
   "cell_type": "code",
   "execution_count": 25,
   "metadata": {},
   "outputs": [
    {
     "data": {
      "text/plain": [
       "<Figure size 432x288 with 0 Axes>"
      ]
     },
     "metadata": {},
     "output_type": "display_data"
    }
   ],
   "source": [
    "plt.clf()\n",
    "acc_values = history_dict['accuracy'] \n",
    "val_acc_values = history_dict['val_accuracy']"
   ]
  },
  {
   "cell_type": "code",
   "execution_count": 26,
   "metadata": {},
   "outputs": [
    {
     "data": {
      "image/png": "[encoded data removed]",
      "text/plain": [
       "<Figure size 432x288 with 1 Axes>"
      ]
     },
     "metadata": {
      "needs_background": "light"
     },
     "output_type": "display_data"
    }
   ],
   "source": [
    "plt.plot(epochs, acc_values, 'bo', label='Training acc')\n",
    "plt.plot(epochs, val_acc_values, 'b', label='Validation acc')\n",
    "plt.title('Training and validation accuracy')\n",
    "plt.xlabel('Epochs')\n",
    "plt.ylabel('Loss')\n",
    "plt.legend()\n",
    "plt.show()"
   ]
  },
  {
   "cell_type": "markdown",
   "metadata": {},
   "source": [
    "# Evaluate Model"
   ]
  },
  {
   "cell_type": "markdown",
   "metadata": {},
   "source": [
    "### Evaluate VGG16+LSTM Model without Dropout"
   ]
  },
  {
   "cell_type": "code",
   "execution_count": 31,
   "metadata": {},
   "outputs": [],
   "source": [
    "# load test dataset\n",
    "test_data = np.load('test_data.npy')\n",
    "test_label = np.load('test_label.npy')"
   ]
  },
  {
   "cell_type": "code",
   "execution_count": 32,
   "metadata": {},
   "outputs": [],
   "source": [
    "test_data = sample_frames(test_data)\n",
    "test_label = test_label.astype('float32')"
   ]
  },
  {
   "cell_type": "code",
   "execution_count": 33,
   "metadata": {},
   "outputs": [],
   "source": [
    "# shuffle test set\n",
    "test_data, test_label = shuffle(test_data, test_label)"
   ]
  },
  {
   "cell_type": "code",
   "execution_count": 34,
   "metadata": {},
   "outputs": [],
   "source": [
    "best_model_name, best_score, best_accuracy = \"not found\", 0., 0."
   ]
  },
  {
   "cell_type": "code",
   "execution_count": 35,
   "metadata": {},
   "outputs": [
    {
     "name": "stdout",
     "output_type": "stream",
     "text": [
      "Evaludating model vgg16_lstm_model_1.h5\n",
      "55/55 [==============================] - 13s 230ms/step\n",
      "Epoch #1: score = 0.690966, accuracy = 0.527273\n",
      "Evaludating model vgg16_lstm_model_2.h5\n",
      "55/55 [==============================] - 13s 234ms/step\n",
      "Epoch #2: score = 0.685872, accuracy = 0.509091\n",
      "Evaludating model vgg16_lstm_model_3.h5\n",
      "55/55 [==============================] - 13s 236ms/step\n",
      "Epoch #3: score = 0.682567, accuracy = 0.527273\n",
      "Evaludating model vgg16_lstm_model_4.h5\n",
      "55/55 [==============================] - 13s 232ms/step\n",
      "Epoch #4: score = 0.678439, accuracy = 0.563636\n",
      "Evaludating model vgg16_lstm_model_5.h5\n",
      "55/55 [==============================] - 13s 231ms/step\n",
      "Epoch #5: score = 0.666324, accuracy = 0.545455\n",
      "Evaludating model vgg16_lstm_model_6.h5\n",
      "55/55 [==============================] - 13s 231ms/step\n",
      "Epoch #6: score = 0.661672, accuracy = 0.545455\n",
      "Evaludating model vgg16_lstm_model_7.h5\n",
      "55/55 [==============================] - 13s 231ms/step\n",
      "Epoch #7: score = 0.657140, accuracy = 0.654545\n",
      "Evaludating model vgg16_lstm_model_8.h5\n",
      "55/55 [==============================] - 13s 233ms/step\n",
      "Epoch #8: score = 0.655998, accuracy = 0.618182\n",
      "Evaludating model vgg16_lstm_model_9.h5\n",
      "55/55 [==============================] - 13s 234ms/step\n",
      "Epoch #9: score = 0.653988, accuracy = 0.636364\n",
      "Evaludating model vgg16_lstm_model_10.h5\n",
      "55/55 [==============================] - 13s 233ms/step\n",
      "Epoch #10: score = 0.645523, accuracy = 0.672727\n",
      "Evaludating model vgg16_lstm_model_11.h5\n",
      "55/55 [==============================] - 13s 232ms/step\n",
      "Epoch #11: score = 0.642642, accuracy = 0.690909\n",
      "Evaludating model vgg16_lstm_model_12.h5\n",
      "55/55 [==============================] - 13s 232ms/step\n",
      "Epoch #12: score = 0.648817, accuracy = 0.600000\n",
      "Evaludating model vgg16_lstm_model_13.h5\n",
      "55/55 [==============================] - 13s 232ms/step\n",
      "Epoch #13: score = 0.635410, accuracy = 0.672727\n",
      "Evaludating model vgg16_lstm_model_14.h5\n",
      "55/55 [==============================] - 13s 233ms/step\n",
      "Epoch #14: score = 0.641539, accuracy = 0.563636\n",
      "Evaludating model vgg16_lstm_model_15.h5\n",
      "55/55 [==============================] - 13s 233ms/step\n",
      "Epoch #15: score = 0.653443, accuracy = 0.563636\n",
      "Evaludating model vgg16_lstm_model_16.h5\n",
      "55/55 [==============================] - 13s 233ms/step\n",
      "Epoch #16: score = 0.643688, accuracy = 0.563636\n",
      "Evaludating model vgg16_lstm_model_17.h5\n",
      "55/55 [==============================] - 13s 233ms/step\n",
      "Epoch #17: score = 0.638647, accuracy = 0.636364\n",
      "Evaludating model vgg16_lstm_model_18.h5\n",
      "55/55 [==============================] - 13s 232ms/step\n",
      "Epoch #18: score = 0.636674, accuracy = 0.563636\n",
      "Evaludating model vgg16_lstm_model_19.h5\n",
      "55/55 [==============================] - 13s 232ms/step\n",
      "Epoch #19: score = 0.654712, accuracy = 0.545455\n",
      "Evaludating model vgg16_lstm_model_20.h5\n",
      "55/55 [==============================] - 13s 232ms/step\n",
      "Epoch #20: score = 0.652973, accuracy = 0.545455\n",
      "Evaludating model vgg16_lstm_model_21.h5\n",
      "55/55 [==============================] - 13s 232ms/step\n",
      "Epoch #21: score = 0.632450, accuracy = 0.618182\n",
      "Evaludating model vgg16_lstm_model_22.h5\n",
      "55/55 [==============================] - 13s 234ms/step\n",
      "Epoch #22: score = 0.670895, accuracy = 0.581818\n",
      "Evaludating model vgg16_lstm_model_23.h5\n",
      "55/55 [==============================] - 13s 232ms/step\n",
      "Epoch #23: score = 0.644521, accuracy = 0.545455\n",
      "Evaludating model vgg16_lstm_model_24.h5\n",
      "55/55 [==============================] - 13s 232ms/step\n",
      "Epoch #24: score = 0.639551, accuracy = 0.563636\n",
      "Evaludating model vgg16_lstm_model_25.h5\n",
      "55/55 [==============================] - 13s 230ms/step\n",
      "Epoch #25: score = 0.625894, accuracy = 0.636364\n",
      "Evaludating model vgg16_lstm_model_26.h5\n",
      "55/55 [==============================] - 13s 231ms/step\n",
      "Epoch #26: score = 0.628552, accuracy = 0.600000\n",
      "Evaludating model vgg16_lstm_model_27.h5\n",
      "55/55 [==============================] - 13s 232ms/step\n",
      "Epoch #27: score = 0.642581, accuracy = 0.581818\n",
      "Evaludating model vgg16_lstm_model_28.h5\n",
      "55/55 [==============================] - 13s 232ms/step\n",
      "Epoch #28: score = 0.660714, accuracy = 0.654545\n",
      "Evaludating model vgg16_lstm_model_29.h5\n",
      "55/55 [==============================] - 13s 231ms/step\n",
      "Epoch #29: score = 0.632275, accuracy = 0.600000\n",
      "Evaludating model vgg16_lstm_model_30.h5\n",
      "55/55 [==============================] - 13s 231ms/step\n",
      "Epoch #30: score = 0.624599, accuracy = 0.618182\n"
     ]
    }
   ],
   "source": [
    "# evaluate the test dataset on every epoch\n",
    "for epoch in range(1, 31):\n",
    "    model_name = \"vgg16_lstm_model_%d.h5\" % epoch\n",
    "    print(\"Evaludating model %s\" % model_name)\n",
    "    model = load_model(model_name)\n",
    "    score, acc = model.evaluate(test_data, test_label, batch_size=5)\n",
    "    print(\"Epoch #%d: score = %f, accuracy = %f\" % (epoch, score, acc))\n",
    "    \n",
    "    if acc > best_accuracy:\n",
    "        best_model_name = model_name\n",
    "        best_score = score\n",
    "        best_accuracy = acc"
   ]
  },
  {
   "cell_type": "markdown",
   "metadata": {},
   "source": [
    "### Evaluate VGG16+LSTM Model with Dropout"
   ]
  },
  {
   "cell_type": "code",
   "execution_count": 36,
   "metadata": {},
   "outputs": [
    {
     "name": "stdout",
     "output_type": "stream",
     "text": [
      "Evaludating model vgg16_lstm_model_dropout_1.h5\n",
      "55/55 [==============================] - 13s 232ms/step\n",
      "Epoch #1: score = 0.698693, accuracy = 0.545455\n",
      "Evaludating model vgg16_lstm_model_dropout_2.h5\n",
      "55/55 [==============================] - 13s 232ms/step\n",
      "Epoch #2: score = 0.685561, accuracy = 0.563636\n",
      "Evaludating model vgg16_lstm_model_dropout_3.h5\n",
      "55/55 [==============================] - 13s 232ms/step\n",
      "Epoch #3: score = 0.676552, accuracy = 0.563636\n",
      "Evaludating model vgg16_lstm_model_dropout_4.h5\n",
      "55/55 [==============================] - 13s 233ms/step\n",
      "Epoch #4: score = 0.672982, accuracy = 0.563636\n",
      "Evaludating model vgg16_lstm_model_dropout_5.h5\n",
      "55/55 [==============================] - 13s 232ms/step\n",
      "Epoch #5: score = 0.672735, accuracy = 0.563636\n",
      "Evaludating model vgg16_lstm_model_dropout_6.h5\n",
      "55/55 [==============================] - 13s 233ms/step\n",
      "Epoch #6: score = 0.671688, accuracy = 0.563636\n",
      "Evaludating model vgg16_lstm_model_dropout_7.h5\n",
      "55/55 [==============================] - 13s 232ms/step\n",
      "Epoch #7: score = 0.665836, accuracy = 0.563636\n",
      "Evaludating model vgg16_lstm_model_dropout_8.h5\n",
      "55/55 [==============================] - 13s 232ms/step\n",
      "Epoch #8: score = 0.655273, accuracy = 0.618182\n",
      "Evaludating model vgg16_lstm_model_dropout_9.h5\n",
      "55/55 [==============================] - 13s 233ms/step\n",
      "Epoch #9: score = 0.669386, accuracy = 0.636364\n",
      "Evaludating model vgg16_lstm_model_dropout_10.h5\n",
      "55/55 [==============================] - 13s 233ms/step\n",
      "Epoch #10: score = 0.663704, accuracy = 0.709091\n",
      "Evaludating model vgg16_lstm_model_dropout_11.h5\n",
      "55/55 [==============================] - 13s 233ms/step\n",
      "Epoch #11: score = 0.659359, accuracy = 0.672727\n",
      "Evaludating model vgg16_lstm_model_dropout_12.h5\n",
      "55/55 [==============================] - 13s 232ms/step\n",
      "Epoch #12: score = 0.654376, accuracy = 0.654545\n",
      "Evaludating model vgg16_lstm_model_dropout_13.h5\n",
      "55/55 [==============================] - 13s 233ms/step\n",
      "Epoch #13: score = 0.654581, accuracy = 0.654545\n",
      "Evaludating model vgg16_lstm_model_dropout_14.h5\n",
      "55/55 [==============================] - 13s 233ms/step\n",
      "Epoch #14: score = 0.641571, accuracy = 0.690909\n",
      "Evaludating model vgg16_lstm_model_dropout_15.h5\n",
      "55/55 [==============================] - 13s 232ms/step\n",
      "Epoch #15: score = 0.655407, accuracy = 0.636364\n",
      "Evaludating model vgg16_lstm_model_dropout_16.h5\n",
      "55/55 [==============================] - 13s 232ms/step\n",
      "Epoch #16: score = 0.652452, accuracy = 0.581818\n",
      "Evaludating model vgg16_lstm_model_dropout_17.h5\n",
      "55/55 [==============================] - 13s 233ms/step\n",
      "Epoch #17: score = 0.660908, accuracy = 0.563636\n",
      "Evaludating model vgg16_lstm_model_dropout_18.h5\n",
      "55/55 [==============================] - 13s 233ms/step\n",
      "Epoch #18: score = 0.635366, accuracy = 0.636364\n",
      "Evaludating model vgg16_lstm_model_dropout_19.h5\n",
      "55/55 [==============================] - 13s 233ms/step\n",
      "Epoch #19: score = 0.659005, accuracy = 0.527273\n",
      "Evaludating model vgg16_lstm_model_dropout_20.h5\n",
      "55/55 [==============================] - 13s 231ms/step\n",
      "Epoch #20: score = 0.667163, accuracy = 0.527273\n",
      "Evaludating model vgg16_lstm_model_dropout_21.h5\n",
      "55/55 [==============================] - 13s 231ms/step\n",
      "Epoch #21: score = 0.659972, accuracy = 0.563636\n",
      "Evaludating model vgg16_lstm_model_dropout_22.h5\n",
      "55/55 [==============================] - 13s 231ms/step\n",
      "Epoch #22: score = 0.646371, accuracy = 0.581818\n",
      "Evaludating model vgg16_lstm_model_dropout_23.h5\n",
      "55/55 [==============================] - 13s 231ms/step\n",
      "Epoch #23: score = 0.650391, accuracy = 0.563636\n",
      "Evaludating model vgg16_lstm_model_dropout_24.h5\n",
      "55/55 [==============================] - 13s 231ms/step\n",
      "Epoch #24: score = 0.658879, accuracy = 0.563636\n",
      "Evaludating model vgg16_lstm_model_dropout_25.h5\n",
      "55/55 [==============================] - 13s 231ms/step\n",
      "Epoch #25: score = 0.653189, accuracy = 0.563636\n",
      "Evaludating model vgg16_lstm_model_dropout_26.h5\n",
      "55/55 [==============================] - 13s 231ms/step\n",
      "Epoch #26: score = 0.647213, accuracy = 0.563636\n",
      "Evaludating model vgg16_lstm_model_dropout_27.h5\n",
      "55/55 [==============================] - 13s 233ms/step\n",
      "Epoch #27: score = 0.652961, accuracy = 0.563636\n",
      "Evaludating model vgg16_lstm_model_dropout_28.h5\n",
      "55/55 [==============================] - 13s 231ms/step\n",
      "Epoch #28: score = 0.648459, accuracy = 0.563636\n",
      "Evaludating model vgg16_lstm_model_dropout_29.h5\n",
      "55/55 [==============================] - 13s 232ms/step\n",
      "Epoch #29: score = 0.666173, accuracy = 0.563636\n",
      "Evaludating model vgg16_lstm_model_dropout_30.h5\n",
      "55/55 [==============================] - 13s 232ms/step\n",
      "Epoch #30: score = 0.657022, accuracy = 0.563636\n"
     ]
    }
   ],
   "source": [
    "# evaluate the test dataset on every epoch\n",
    "for epoch in range(1, 31):\n",
    "    model_name = \"vgg16_lstm_model_dropout_%d.h5\" % epoch\n",
    "    print(\"Evaludating model %s\" % model_name)\n",
    "    model = load_model(model_name)\n",
    "    score, acc = model.evaluate(test_data, test_label, batch_size=5)\n",
    "    print(\"Epoch #%d: score = %f, accuracy = %f\" % (epoch, score, acc))\n",
    "    \n",
    "    if acc > best_accuracy:\n",
    "        best_model_name = model_name\n",
    "        best_score = score\n",
    "        best_accuracy = acc"
   ]
  },
  {
   "cell_type": "markdown",
   "metadata": {},
   "source": [
    "### Best Model"
   ]
  },
  {
   "cell_type": "code",
   "execution_count": 38,
   "metadata": {},
   "outputs": [
    {
     "name": "stdout",
     "output_type": "stream",
     "text": [
      "The best model: model = vgg16_lstm_model_dropout_10.h5, score = 0.663704, accuracy = 0.709091\n"
     ]
    }
   ],
   "source": [
    "# evaluate on the best model\n",
    "best_model = load_model(best_model_name)\n",
    "prediction_label = best_model.predict(test_data, batch_size=5)\n",
    "print(\"The best model: model = %s, score = %f, accuracy = %f\" % (best_model_name, best_score, best_accuracy))"
   ]
  },
  {
   "cell_type": "code",
   "execution_count": 39,
   "metadata": {},
   "outputs": [],
   "source": [
    "timestamp = range(len(test_data))"
   ]
  },
  {
   "cell_type": "code",
   "execution_count": 40,
   "metadata": {},
   "outputs": [
    {
     "data": {
      "image/png": "[encoded data removed]",
      "text/plain": [
       "<Figure size 432x288 with 1 Axes>"
      ]
     },
     "metadata": {
      "needs_background": "light"
     },
     "output_type": "display_data"
    }
   ],
   "source": [
    "plt.plot(timestamp, test_label, 'bo', label='True Labels')\n",
    "plt.plot(timestamp, prediction_label, 'b', label='Prediction Labels')\n",
    "plt.title('Ground Truth and Prediction Labels')\n",
    "plt.xlabel('Timestamp')\n",
    "plt.ylabel('Label')\n",
    "plt.legend()\n",
    "plt.show()"
   ]
  },
  {
   "cell_type": "markdown",
   "metadata": {},
   "source": [
    "### Export to JSON File"
   ]
  },
  {
   "cell_type": "code",
   "execution_count": 52,
   "metadata": {},
   "outputs": [],
   "source": [
    "data = []\n",
    "for i in range(len(test_data)):\n",
    "    data.append([str(timestamp[i]), str(prediction_label[i][0])])"
   ]
  },
  {
   "cell_type": "code",
   "execution_count": 53,
   "metadata": {},
   "outputs": [],
   "source": [
    "# dump to file system\n",
    "with open('timeLabel.json', 'w', encoding='utf-8') as f:\n",
    "    json.dump({'slip': data}, f, ensure_ascii=False, indent=4)"
   ]
  }
 ],
 "metadata": {
  "kernelspec": {
   "display_name": "Python 3",
   "language": "python",
   "name": "python3"
  },
  "language_info": {
   "codemirror_mode": {
    "name": "ipython",
    "version": 3
   },
   "file_extension": ".py",
   "mimetype": "text/x-python",
   "name": "python",
   "nbconvert_exporter": "python",
   "pygments_lexer": "ipython3",
   "version": "3.7.7"
  }
 },
 "nbformat": 4,
 "nbformat_minor": 4
}
