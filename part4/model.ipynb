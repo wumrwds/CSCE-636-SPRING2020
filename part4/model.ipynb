{
 "cells": [
  {
   "cell_type": "code",
   "execution_count": 1,
   "metadata": {},
   "outputs": [
    {
     "name": "stderr",
     "output_type": "stream",
     "text": [
      "Using TensorFlow backend.\n"
     ]
    }
   ],
   "source": [
    "import cv2\n",
    "import os\n",
    "import numpy as np\n",
    "import math\n",
    "\n",
    "\n",
    "from keras.applications.vgg16 import VGG16\n",
    "from keras.models import Model\n",
    "from keras.layers import Dense, Input\n",
    "from keras.layers.pooling import GlobalAveragePooling2D\n",
    "from keras.layers.recurrent import LSTM\n",
    "from keras.layers.wrappers import TimeDistributed\n",
    "from keras.optimizers import Nadam\n",
    "from keras.utils import to_categorical\n",
    "from keras.models import load_model\n"
   ]
  },
  {
   "cell_type": "code",
   "execution_count": 2,
   "metadata": {},
   "outputs": [],
   "source": [
    "def video_to_frames(video):\n",
    "    # extract frames from a video and return a frame array\n",
    "    vidcap = cv2.VideoCapture(video)\n",
    "    frames = []\n",
    "    while vidcap.isOpened():\n",
    "        success, image = vidcap.read()\n",
    "        \n",
    "        if success:\n",
    "            frames.append(image)\n",
    "        else:\n",
    "            break\n",
    "    cv2.destroyAllWindows()\n",
    "    vidcap.release()\n",
    "    \n",
    "    return np.array(frames)\n"
   ]
  },
  {
   "cell_type": "code",
   "execution_count": 3,
   "metadata": {},
   "outputs": [
    {
     "data": {
      "text/plain": [
       "88"
      ]
     },
     "execution_count": 3,
     "metadata": {},
     "output_type": "execute_result"
    }
   ],
   "source": [
    "frame_lens = []\n",
    "\n",
    "for folder in os.listdir('dataset/train'):\n",
    "    folder_path = 'dataset/train/' + folder\n",
    "    for filename in os.listdir(folder_path):\n",
    "        frames = video_to_frames(folder_path + '/' + filename)\n",
    "        frame_lens.append(len(frames))\n",
    "\n",
    "np.array(frame_lens).min()"
   ]
  },
  {
   "cell_type": "code",
   "execution_count": 3,
   "metadata": {},
   "outputs": [
    {
     "name": "stdout",
     "output_type": "stream",
     "text": [
      "horizontalview_p22_faint_a1.avi 0\n",
      "horizontalview_p01_faint_a1.avi 0\n",
      "horizontalview_p24_faint_a1.avi 0\n",
      "horizontalview_p15_faint_a1.avi 0\n",
      "horizontalview_p18_faint_a1.avi 0\n",
      "horizontalview_p19_faint_a1.avi 0\n",
      "horizontalview_p09_faint_a1.avi 0\n",
      "horizontalview_p08_faint_a1.avi 0\n",
      "horizontalview_p02_faint_a1.avi 0\n",
      "horizontalview_p17_faint_a1.avi 0\n",
      "horizontalview_p16_faint_a1.avi 0\n",
      "horizontalview_p07_wonder_a1.avi 1\n",
      "horizontalview_p03_wonder_a1.avi 1\n",
      "horizontalview_p07_wonder_a2.avi 1\n",
      "horizontalview_p03_wonder_a2.avi 1\n",
      "horizontalview_p04_wonder_a2.avi 1\n",
      "horizontalview_p04_wonder_a1.avi 1\n",
      "horizontalview_p08_wonder_a2.avi 1\n",
      "horizontalview_p08_wonder_a1.avi 1\n",
      "horizontalview_p01_wonder_a2.avi 1\n",
      "horizontalview_p05_wonder_a2.avi 1\n",
      "horizontalview_p01_wonder_a1.avi 1\n",
      "horizontalview_p05_wonder_a1.avi 1\n",
      "horizontalview_p02_wonder_a1.avi 1\n",
      "horizontalview_p06_wonder_a1.avi 1\n",
      "horizontalview_p02_wonder_a2.avi 1\n",
      "horizontalview_p06_wonder_a2.avi 1\n",
      "horizontalview_p02_car_a1.avi 2\n",
      "horizontalview_p24_car_a1.avi 2\n",
      "horizontalview_p08_car_a1.avi 2\n",
      "horizontalview_p01_car_a1.avi 2\n",
      "horizontalview_p09_car_a1.avi 2\n",
      "horizontalview_p08_walk_a1.avi 3\n",
      "horizontalview_p01_walk_a2.avi 3\n",
      "horizontalview_p08_walk_a2.avi 3\n",
      "horizontalview_p01_walk_a1.avi 3\n",
      "horizontalview_p04_walk_a1.avi 3\n",
      "horizontalview_p04_walk_a2.avi 3\n",
      "horizontalview_p07_walk_a2.avi 3\n",
      "horizontalview_p07_walk_a1.avi 3\n",
      "horizontalview_p02_walk_a1.avi 3\n",
      "horizontalview_p02_walk_a2.avi 3\n",
      "horizontalview_p05_walk_a2.avi 3\n",
      "horizontalview_p05_walk_a1.avi 3\n",
      "horizontalview_p03_walk_a2.avi 3\n",
      "horizontalview_p03_walk_a1.avi 3\n",
      "horizontalview_p06_walk_a1.avi 3\n",
      "horizontalview_p06_walk_a2.avi 3\n",
      "horizontalview_p07_crouch_a2.avi 4\n",
      "horizontalview_p03_crouch_a2.avi 4\n",
      "horizontalview_p07_crouch_a1.avi 4\n",
      "horizontalview_p03_crouch_a1.avi 4\n",
      "horizontalview_p04_crouch_a1.avi 4\n",
      "horizontalview_p04_crouch_a2.avi 4\n",
      "horizontalview_p08_crouch_a1.avi 4\n",
      "horizontalview_p08_crouch_a2.avi 4\n",
      "horizontalview_p01_crouch_a1.avi 4\n",
      "horizontalview_p05_crouch_a1.avi 4\n",
      "horizontalview_p01_crouch_a2.avi 4\n",
      "horizontalview_p05_crouch_a2.avi 4\n",
      "horizontalview_p02_crouch_a2.avi 4\n",
      "horizontalview_p06_crouch_a2.avi 4\n",
      "horizontalview_p02_crouch_a1.avi 4\n",
      "horizontalview_p06_crouch_a1.avi 4\n",
      "horizontalview_p01_bend_a1.avi 5\n",
      "horizontalview_p08_bend_a2.avi 5\n",
      "horizontalview_p01_bend_a2.avi 5\n",
      "horizontalview_p08_bend_a1.avi 5\n",
      "horizontalview_p04_bend_a2.avi 5\n",
      "horizontalview_p04_bend_a1.avi 5\n",
      "horizontalview_p07_bend_a1.avi 5\n",
      "horizontalview_p07_bend_a2.avi 5\n",
      "horizontalview_p02_bend_a2.avi 5\n",
      "horizontalview_p02_bend_a1.avi 5\n",
      "horizontalview_p05_bend_a1.avi 5\n",
      "horizontalview_p05_bend_a2.avi 5\n",
      "horizontalview_p03_bend_a1.avi 5\n",
      "horizontalview_p03_bend_a2.avi 5\n",
      "horizontalview_p06_bend_a2.avi 5\n",
      "horizontalview_p06_bend_a1.avi 5\n",
      "horizontalview_p07_jump_a2.avi 6\n",
      "horizontalview_p07_jump_a1.avi 6\n",
      "horizontalview_p02_jump_a1.avi 6\n",
      "horizontalview_p02_jump_a2.avi 6\n",
      "horizontalview_p08_jump_a1.avi 6\n",
      "horizontalview_p01_jump_a2.avi 6\n",
      "horizontalview_p08_jump_a2.avi 6\n",
      "horizontalview_p01_jump_a1.avi 6\n",
      "horizontalview_p04_jump_a1.avi 6\n",
      "horizontalview_p04_jump_a2.avi 6\n",
      "horizontalview_p03_jump_a2.avi 6\n",
      "horizontalview_p03_jump_a1.avi 6\n",
      "horizontalview_p06_jump_a1.avi 6\n",
      "horizontalview_p06_jump_a2.avi 6\n",
      "horizontalview_p05_jump_a2.avi 6\n",
      "horizontalview_p05_jump_a1.avi 6\n",
      "horizontalview_p06_run_a2.avi 7\n",
      "horizontalview_p06_run_a1.avi 7\n",
      "horizontalview_p03_run_a1.avi 7\n",
      "horizontalview_p03_run_a2.avi 7\n",
      "horizontalview_p04_run_a2.avi 7\n",
      "horizontalview_p04_run_a1.avi 7\n",
      "horizontalview_p01_run_a1.avi 7\n",
      "horizontalview_p01_run_a2.avi 7\n",
      "horizontalview_p02_run_a1.avi 7\n",
      "horizontalview_p02_run_a2.avi 7\n",
      "horizontalview_p07_run_a2.avi 7\n",
      "horizontalview_p07_run_a1.avi 7\n",
      "horizontalview_p05_run_a2.avi 7\n",
      "horizontalview_p08_run_a1.avi 7\n",
      "horizontalview_p05_run_a1.avi 7\n",
      "horizontalview_p08_run_a2.avi 7\n"
     ]
    }
   ],
   "source": [
    "train_data = []\n",
    "train_label = []\n",
    "\n",
    "label = 0\n",
    "for folder in os.listdir('dataset/train'):\n",
    "    folder_path = 'dataset/train/' + folder\n",
    "    for filename in os.listdir(folder_path):\n",
    "        frames = video_to_frames(folder_path + '/' + filename)\n",
    "        frames = frames[math.floor(len(frames)/2) - 44 : math.floor(len(frames)/2) + 44]\n",
    "        print(filename, label)\n",
    "        train_data.append(frames)\n",
    "        train_label.append(label)\n",
    "\n",
    "    label += 1\n",
    "\n",
    "train_data = np.array(train_data)\n",
    "train_label = np.array(train_label)"
   ]
  },
  {
   "cell_type": "code",
   "execution_count": 5,
   "metadata": {},
   "outputs": [],
   "source": [
    "train_label = to_categorical(train_label, num_classes=label)"
   ]
  },
  {
   "cell_type": "code",
   "execution_count": 4,
   "metadata": {},
   "outputs": [
    {
     "name": "stdout",
     "output_type": "stream",
     "text": [
      "faint_test_3.mp4 0\n",
      "faint_test_2.mp4 0\n",
      "faint_test_1.mp4 0\n",
      "walk_test_2.mp4 3\n",
      "walk_test_3.mp4 3\n",
      "walk_test_1.mp4 3\n",
      "crouch_test_2.mp4 4\n",
      "crouch_test_3.mp4 4\n",
      "crouch_test_1.mp4 4\n",
      "bend_test_2.mp4 5\n",
      "bend_test_1.mp4 5\n",
      "jump_test_1.mp4 6\n",
      "jump_test_3.mp4 6\n",
      "jump_test_2.mp4 6\n",
      "jump_test_4.mp4 6\n",
      "run_test_1.mp4 7\n",
      "run_test_3.mp4 7\n",
      "run_test_2.mp4 7\n"
     ]
    }
   ],
   "source": [
    "test_data = []\n",
    "test_label = []\n",
    "\n",
    "label = 0\n",
    "for folder in os.listdir('dataset/test'):\n",
    "    folder_path = 'dataset/test/' + folder\n",
    "    for filename in os.listdir(folder_path):\n",
    "        frames = video_to_frames(folder_path + '/' + filename)\n",
    "        if len(frames) > 88:\n",
    "            frames = frames[math.floor(len(frames)/2) - 44 : math.floor(len(frames)/2) + 44]\n",
    "        \n",
    "        new_frames = np.zeros([max(len(frames), 88), 240,320,3])\n",
    "        for i in range(len(frames)):\n",
    "            new_frames[i] = cv2.resize(frames[i], dsize=(320, 240), interpolation=cv2.INTER_CUBIC)\n",
    "        \n",
    "        print(filename, label)\n",
    "        test_data.append(new_frames)\n",
    "        test_label.append(label)\n",
    "\n",
    "    label += 1\n",
    "\n",
    "test_data = np.array(test_data)\n",
    "test_label = np.array(test_label)\n"
   ]
  },
  {
   "cell_type": "code",
   "execution_count": 5,
   "metadata": {},
   "outputs": [],
   "source": [
    "test_label = to_categorical(test_label, num_classes=label)"
   ]
  },
  {
   "cell_type": "code",
   "execution_count": 6,
   "metadata": {},
   "outputs": [],
   "source": [
    "del frames\n",
    "del new_frames"
   ]
  },
  {
   "cell_type": "code",
   "execution_count": 13,
   "metadata": {},
   "outputs": [
    {
     "name": "stderr",
     "output_type": "stream",
     "text": [
      "/Users/minrengwu/anaconda3/lib/python3.7/site-packages/ipykernel_launcher.py:7: UserWarning: Update your `Model` call to the Keras 2 API: `Model(inputs=Tensor(\"in..., outputs=Tensor(\"gl...)`\n",
      "  import sys\n",
      "/Users/minrengwu/anaconda3/lib/python3.7/site-packages/ipykernel_launcher.py:11: UserWarning: Update your `Dense` call to the Keras 2 API: `Dense(activation=\"relu\", units=1024)`\n",
      "  # This is added back by InteractiveShellApp.init_path()\n",
      "/Users/minrengwu/anaconda3/lib/python3.7/site-packages/ipykernel_launcher.py:12: UserWarning: Update your `Dense` call to the Keras 2 API: `Dense(activation=\"softmax\", units=8)`\n",
      "  if sys.path[0] == '':\n"
     ]
    }
   ],
   "source": [
    "classes = label\n",
    "frames, rows, columns, channels = train_data.shape[1], train_data.shape[2], train_data.shape[3], train_data.shape[4]\n",
    "\n",
    "video = Input(shape=(frames, rows, columns, channels))\n",
    "cnn_base = VGG16(input_shape=(rows, columns, channels), weights=\"imagenet\", include_top=False)\n",
    "cnn_out = GlobalAveragePooling2D()(cnn_base.output)\n",
    "cnn = Model(input=cnn_base.input, output=cnn_out)\n",
    "cnn.trainable = False\n",
    "encoded_frames = TimeDistributed(cnn)(video)\n",
    "encoded_sequence = LSTM(256)(encoded_frames)\n",
    "hidden_layer = Dense(output_dim=1024, activation=\"relu\")(encoded_sequence)\n",
    "outputs = Dense(output_dim=classes, activation=\"softmax\")(hidden_layer)\n",
    "model = Model([video], outputs)\n",
    "optimizer = Nadam(lr=0.002,\n",
    "                  beta_1=0.9,\n",
    "                  beta_2=0.999,\n",
    "                  epsilon=1e-08,\n",
    "                  schedule_decay=0.004)\n",
    "model.compile(loss=\"categorical_crossentropy\",\n",
    "              optimizer=optimizer,\n",
    "              metrics=[\"categorical_accuracy\"]) "
   ]
  },
  {
   "cell_type": "code",
   "execution_count": 10,
   "metadata": {},
   "outputs": [
    {
     "name": "stdout",
     "output_type": "stream",
     "text": [
      "Epoch 1/3\n",
      "112/112 [==============================] - 7609s 68s/step - loss: 2.3439 - categorical_accuracy: 0.0893\n",
      "Epoch 2/3\n",
      "112/112 [==============================] - 7333s 65s/step - loss: 2.2277 - categorical_accuracy: 0.0982\n",
      "Epoch 3/3\n",
      "112/112 [==============================] - 7370s 66s/step - loss: 2.0965 - categorical_accuracy: 0.0982\n"
     ]
    }
   ],
   "source": [
    "history = model.fit(train_data, train_label, epochs=3, batch_size=4)"
   ]
  },
  {
   "cell_type": "code",
   "execution_count": 11,
   "metadata": {},
   "outputs": [],
   "source": [
    "model.save(filepath='my_model.h5')"
   ]
  },
  {
   "cell_type": "code",
   "execution_count": null,
   "metadata": {},
   "outputs": [],
   "source": []
  },
  {
   "cell_type": "code",
   "execution_count": 8,
   "metadata": {},
   "outputs": [],
   "source": [
    "model = load_model('my_model.h5')"
   ]
  },
  {
   "cell_type": "code",
   "execution_count": 9,
   "metadata": {},
   "outputs": [],
   "source": [
    "prediction = model.predict(test_data)"
   ]
  },
  {
   "cell_type": "code",
   "execution_count": 10,
   "metadata": {},
   "outputs": [
    {
     "name": "stdout",
     "output_type": "stream",
     "text": [
      "7\n",
      "7\n",
      "7\n",
      "7\n",
      "7\n",
      "7\n",
      "7\n",
      "7\n",
      "7\n",
      "7\n",
      "7\n",
      "7\n",
      "7\n",
      "7\n",
      "7\n",
      "7\n",
      "7\n",
      "7\n"
     ]
    }
   ],
   "source": [
    "for p in prediction:\n",
    "    print(p.argmax())"
   ]
  },
  {
   "cell_type": "code",
   "execution_count": null,
   "metadata": {},
   "outputs": [],
   "source": []
  },
  {
   "cell_type": "code",
   "execution_count": 11,
   "metadata": {},
   "outputs": [
    {
     "data": {
      "text/plain": [
       "(112, 88, 240, 320, 3)"
      ]
     },
     "execution_count": 11,
     "metadata": {},
     "output_type": "execute_result"
    }
   ],
   "source": [
    "test_data.shape"
   ]
  },
  {
   "cell_type": "code",
   "execution_count": 25,
   "metadata": {},
   "outputs": [
    {
     "data": {
      "text/plain": [
       "(18, 88, 240, 320, 3)"
      ]
     },
     "execution_count": 25,
     "metadata": {},
     "output_type": "execute_result"
    }
   ],
   "source": [
    "test_data.shape"
   ]
  },
  {
   "cell_type": "code",
   "execution_count": 13,
   "metadata": {},
   "outputs": [
    {
     "data": {
      "text/plain": [
       "array([[1., 0., 0., 0., 0., 0., 0., 0.],\n",
       "       [1., 0., 0., 0., 0., 0., 0., 0.],\n",
       "       [1., 0., 0., 0., 0., 0., 0., 0.],\n",
       "       [1., 0., 0., 0., 0., 0., 0., 0.],\n",
       "       [1., 0., 0., 0., 0., 0., 0., 0.],\n",
       "       [1., 0., 0., 0., 0., 0., 0., 0.],\n",
       "       [1., 0., 0., 0., 0., 0., 0., 0.],\n",
       "       [1., 0., 0., 0., 0., 0., 0., 0.],\n",
       "       [1., 0., 0., 0., 0., 0., 0., 0.],\n",
       "       [1., 0., 0., 0., 0., 0., 0., 0.],\n",
       "       [1., 0., 0., 0., 0., 0., 0., 0.],\n",
       "       [0., 1., 0., 0., 0., 0., 0., 0.],\n",
       "       [0., 1., 0., 0., 0., 0., 0., 0.],\n",
       "       [0., 1., 0., 0., 0., 0., 0., 0.],\n",
       "       [0., 1., 0., 0., 0., 0., 0., 0.],\n",
       "       [0., 1., 0., 0., 0., 0., 0., 0.],\n",
       "       [0., 1., 0., 0., 0., 0., 0., 0.],\n",
       "       [0., 1., 0., 0., 0., 0., 0., 0.],\n",
       "       [0., 1., 0., 0., 0., 0., 0., 0.],\n",
       "       [0., 1., 0., 0., 0., 0., 0., 0.],\n",
       "       [0., 1., 0., 0., 0., 0., 0., 0.],\n",
       "       [0., 1., 0., 0., 0., 0., 0., 0.],\n",
       "       [0., 1., 0., 0., 0., 0., 0., 0.],\n",
       "       [0., 1., 0., 0., 0., 0., 0., 0.],\n",
       "       [0., 1., 0., 0., 0., 0., 0., 0.],\n",
       "       [0., 1., 0., 0., 0., 0., 0., 0.],\n",
       "       [0., 1., 0., 0., 0., 0., 0., 0.],\n",
       "       [0., 0., 1., 0., 0., 0., 0., 0.],\n",
       "       [0., 0., 1., 0., 0., 0., 0., 0.],\n",
       "       [0., 0., 1., 0., 0., 0., 0., 0.],\n",
       "       [0., 0., 1., 0., 0., 0., 0., 0.],\n",
       "       [0., 0., 1., 0., 0., 0., 0., 0.],\n",
       "       [0., 0., 0., 1., 0., 0., 0., 0.],\n",
       "       [0., 0., 0., 1., 0., 0., 0., 0.],\n",
       "       [0., 0., 0., 1., 0., 0., 0., 0.],\n",
       "       [0., 0., 0., 1., 0., 0., 0., 0.],\n",
       "       [0., 0., 0., 1., 0., 0., 0., 0.],\n",
       "       [0., 0., 0., 1., 0., 0., 0., 0.],\n",
       "       [0., 0., 0., 1., 0., 0., 0., 0.],\n",
       "       [0., 0., 0., 1., 0., 0., 0., 0.],\n",
       "       [0., 0., 0., 1., 0., 0., 0., 0.],\n",
       "       [0., 0., 0., 1., 0., 0., 0., 0.],\n",
       "       [0., 0., 0., 1., 0., 0., 0., 0.],\n",
       "       [0., 0., 0., 1., 0., 0., 0., 0.],\n",
       "       [0., 0., 0., 1., 0., 0., 0., 0.],\n",
       "       [0., 0., 0., 1., 0., 0., 0., 0.],\n",
       "       [0., 0., 0., 1., 0., 0., 0., 0.],\n",
       "       [0., 0., 0., 1., 0., 0., 0., 0.],\n",
       "       [0., 0., 0., 0., 1., 0., 0., 0.],\n",
       "       [0., 0., 0., 0., 1., 0., 0., 0.],\n",
       "       [0., 0., 0., 0., 1., 0., 0., 0.],\n",
       "       [0., 0., 0., 0., 1., 0., 0., 0.],\n",
       "       [0., 0., 0., 0., 1., 0., 0., 0.],\n",
       "       [0., 0., 0., 0., 1., 0., 0., 0.],\n",
       "       [0., 0., 0., 0., 1., 0., 0., 0.],\n",
       "       [0., 0., 0., 0., 1., 0., 0., 0.],\n",
       "       [0., 0., 0., 0., 1., 0., 0., 0.],\n",
       "       [0., 0., 0., 0., 1., 0., 0., 0.],\n",
       "       [0., 0., 0., 0., 1., 0., 0., 0.],\n",
       "       [0., 0., 0., 0., 1., 0., 0., 0.],\n",
       "       [0., 0., 0., 0., 1., 0., 0., 0.],\n",
       "       [0., 0., 0., 0., 1., 0., 0., 0.],\n",
       "       [0., 0., 0., 0., 1., 0., 0., 0.],\n",
       "       [0., 0., 0., 0., 1., 0., 0., 0.],\n",
       "       [0., 0., 0., 0., 0., 1., 0., 0.],\n",
       "       [0., 0., 0., 0., 0., 1., 0., 0.],\n",
       "       [0., 0., 0., 0., 0., 1., 0., 0.],\n",
       "       [0., 0., 0., 0., 0., 1., 0., 0.],\n",
       "       [0., 0., 0., 0., 0., 1., 0., 0.],\n",
       "       [0., 0., 0., 0., 0., 1., 0., 0.],\n",
       "       [0., 0., 0., 0., 0., 1., 0., 0.],\n",
       "       [0., 0., 0., 0., 0., 1., 0., 0.],\n",
       "       [0., 0., 0., 0., 0., 1., 0., 0.],\n",
       "       [0., 0., 0., 0., 0., 1., 0., 0.],\n",
       "       [0., 0., 0., 0., 0., 1., 0., 0.],\n",
       "       [0., 0., 0., 0., 0., 1., 0., 0.],\n",
       "       [0., 0., 0., 0., 0., 1., 0., 0.],\n",
       "       [0., 0., 0., 0., 0., 1., 0., 0.],\n",
       "       [0., 0., 0., 0., 0., 1., 0., 0.],\n",
       "       [0., 0., 0., 0., 0., 1., 0., 0.],\n",
       "       [0., 0., 0., 0., 0., 0., 1., 0.],\n",
       "       [0., 0., 0., 0., 0., 0., 1., 0.],\n",
       "       [0., 0., 0., 0., 0., 0., 1., 0.],\n",
       "       [0., 0., 0., 0., 0., 0., 1., 0.],\n",
       "       [0., 0., 0., 0., 0., 0., 1., 0.],\n",
       "       [0., 0., 0., 0., 0., 0., 1., 0.],\n",
       "       [0., 0., 0., 0., 0., 0., 1., 0.],\n",
       "       [0., 0., 0., 0., 0., 0., 1., 0.],\n",
       "       [0., 0., 0., 0., 0., 0., 1., 0.],\n",
       "       [0., 0., 0., 0., 0., 0., 1., 0.],\n",
       "       [0., 0., 0., 0., 0., 0., 1., 0.],\n",
       "       [0., 0., 0., 0., 0., 0., 1., 0.],\n",
       "       [0., 0., 0., 0., 0., 0., 1., 0.],\n",
       "       [0., 0., 0., 0., 0., 0., 1., 0.],\n",
       "       [0., 0., 0., 0., 0., 0., 1., 0.],\n",
       "       [0., 0., 0., 0., 0., 0., 1., 0.],\n",
       "       [0., 0., 0., 0., 0., 0., 0., 1.],\n",
       "       [0., 0., 0., 0., 0., 0., 0., 1.],\n",
       "       [0., 0., 0., 0., 0., 0., 0., 1.],\n",
       "       [0., 0., 0., 0., 0., 0., 0., 1.],\n",
       "       [0., 0., 0., 0., 0., 0., 0., 1.],\n",
       "       [0., 0., 0., 0., 0., 0., 0., 1.],\n",
       "       [0., 0., 0., 0., 0., 0., 0., 1.],\n",
       "       [0., 0., 0., 0., 0., 0., 0., 1.],\n",
       "       [0., 0., 0., 0., 0., 0., 0., 1.],\n",
       "       [0., 0., 0., 0., 0., 0., 0., 1.],\n",
       "       [0., 0., 0., 0., 0., 0., 0., 1.],\n",
       "       [0., 0., 0., 0., 0., 0., 0., 1.],\n",
       "       [0., 0., 0., 0., 0., 0., 0., 1.],\n",
       "       [0., 0., 0., 0., 0., 0., 0., 1.],\n",
       "       [0., 0., 0., 0., 0., 0., 0., 1.],\n",
       "       [0., 0., 0., 0., 0., 0., 0., 1.]], dtype=float32)"
      ]
     },
     "execution_count": 13,
     "metadata": {},
     "output_type": "execute_result"
    }
   ],
   "source": [
    "train_label"
   ]
  },
  {
   "cell_type": "code",
   "execution_count": 17,
   "metadata": {},
   "outputs": [
    {
     "name": "stdout",
     "output_type": "stream",
     "text": [
      "0 (88, 240, 320, 3)\n",
      "1 (88, 240, 320, 3)\n",
      "2 (88, 240, 320, 3)\n",
      "3 (88, 240, 320, 3)\n",
      "4 (88, 240, 320, 3)\n",
      "5 (88, 240, 320, 3)\n",
      "6 (88, 240, 320, 3)\n",
      "7 (88, 240, 320, 3)\n",
      "8 (88, 240, 320, 3)\n",
      "9 (88, 240, 320, 3)\n",
      "10 (88, 240, 320, 3)\n",
      "11 (88, 240, 320, 3)\n",
      "12 (88, 240, 320, 3)\n",
      "13 (88, 240, 320, 3)\n",
      "14 (88, 240, 320, 3)\n",
      "15 (7, 240, 320, 3)\n",
      "16 (88, 240, 320, 3)\n",
      "17 (88, 240, 320, 3)\n"
     ]
    }
   ],
   "source": [
    "for i in range(len(test_data)):\n",
    "    print(i, test_data[i].shape)"
   ]
  },
  {
   "cell_type": "code",
   "execution_count": 11,
   "metadata": {},
   "outputs": [
    {
     "data": {
      "text/plain": [
       "8"
      ]
     },
     "execution_count": 11,
     "metadata": {},
     "output_type": "execute_result"
    }
   ],
   "source": [
    "label"
   ]
  },
  {
   "cell_type": "code",
   "execution_count": null,
   "metadata": {},
   "outputs": [],
   "source": []
  },
  {
   "cell_type": "code",
   "execution_count": null,
   "metadata": {},
   "outputs": [],
   "source": []
  },
  {
   "cell_type": "code",
   "execution_count": null,
   "metadata": {},
   "outputs": [],
   "source": []
  },
  {
   "cell_type": "code",
   "execution_count": null,
   "metadata": {},
   "outputs": [],
   "source": []
  },
  {
   "cell_type": "code",
   "execution_count": 14,
   "metadata": {},
   "outputs": [
    {
     "name": "stdout",
     "output_type": "stream",
     "text": [
      "Model: \"model_2\"\n",
      "_________________________________________________________________\n",
      "Layer (type)                 Output Shape              Param #   \n",
      "=================================================================\n",
      "input_1 (InputLayer)         (None, 88, 240, 320, 3)   0         \n",
      "_________________________________________________________________\n",
      "time_distributed_1 (TimeDist (None, 88, 512)           14714688  \n",
      "_________________________________________________________________\n",
      "lstm_1 (LSTM)                (None, 256)               787456    \n",
      "_________________________________________________________________\n",
      "dense_1 (Dense)              (None, 1024)              263168    \n",
      "_________________________________________________________________\n",
      "dense_2 (Dense)              (None, 8)                 8200      \n",
      "=================================================================\n",
      "Total params: 15,773,512\n",
      "Trainable params: 15,773,512\n",
      "Non-trainable params: 0\n",
      "_________________________________________________________________\n"
     ]
    }
   ],
   "source": [
    "model.summary()"
   ]
  },
  {
   "cell_type": "code",
   "execution_count": 15,
   "metadata": {},
   "outputs": [],
   "source": [
    "TimeDistributed?"
   ]
  },
  {
   "cell_type": "code",
   "execution_count": null,
   "metadata": {},
   "outputs": [],
   "source": []
  }
 ],
 "metadata": {
  "kernelspec": {
   "display_name": "Python 3",
   "language": "python",
   "name": "python3"
  },
  "language_info": {
   "codemirror_mode": {
    "name": "ipython",
    "version": 3
   },
   "file_extension": ".py",
   "mimetype": "text/x-python",
   "name": "python",
   "nbconvert_exporter": "python",
   "pygments_lexer": "ipython3",
   "version": "3.7.3"
  }
 },
 "nbformat": 4,
 "nbformat_minor": 2
}
